{
  "nbformat": 4,
  "nbformat_minor": 5,
  "metadata": {
    "kernelspec": {
      "display_name": "Python 3 (ipykernel)",
      "language": "python",
      "name": "python3"
    },
    "language_info": {
      "codemirror_mode": {
        "name": "ipython",
        "version": 3
      },
      "file_extension": ".py",
      "mimetype": "text/x-python",
      "name": "python",
      "nbconvert_exporter": "python",
      "pygments_lexer": "ipython3",
      "version": "3.10.12"
    }
  },
  "cells": [
    {
      "cell_type": "markdown",
      "metadata": {},
      "source": [
        "# LSDAI - Clean Slate Rebuild\n",
        "### Phase 1, Cell 1: Foundational Setup"
      ]
    },
    {
      "cell_type": "code",
      "execution_count": null,
      "metadata": {
        "id": "cell-1-setup"
      },
      "outputs": [],
      "source": [
        "# @title Cell 1: Environment Setup & Configuration\n",
        "# This cell prepares the environment, checks dependencies, and verifies the file structure.\n",
        "\n",
        "print(\"Running Cell 1: Environment Setup...\")\n",
        "%run scripts/setup_env.py"
      ]
    },
    {
      "cell_type": "markdown",
      "metadata": {},
      "source": [
        "### Phase 1, Cell 2: Widget Interface"
      ]
    },
    {
      "cell_type": "code",
      "execution_count": null,
      "metadata": {
        "id": "cell-2-widgets"
      },
      "outputs": [],
      "source": [
        "# @title Cell 2: Widget Interface\n",
        "# This cell displays the user interface for all selections.\n",
        "%run scripts/start_ui.py"
      ]
    },
    {
      "cell_type": "markdown",
      "metadata": {},
      "source": [
        "### Phase 1, Cell 3: Model Management & Downloading"
      ]
    },
    {
      "cell_type": "code",
      "execution_count": null,
      "metadata": {
        "id": "cell-3-download"
      },
      "outputs": [],
      "source": [
        "# @title Cell 3: Model Management & Downloading\n",
        "# This cell processes your selections and downloads all required files.\n",
        "%run scripts/start_download.py"
      ]
    },
    {
      "cell_type": "markdown",
      "metadata": {},
      "source": [
        "### Phase 1, Cell 4: WebUI Launch"
      ]
    },
    {
      "cell_type": "code",
      "execution_count": null,
      "metadata": {
        "id": "cell-4-launch"
      },
      "outputs": [],
      "source": [
        "# @title Cell 4: WebUI Launch\n",
        "# This cell launches the selected WebUI.\n",
        "%run scripts/start_launcher.py"
      ]
    }
  ]
}
